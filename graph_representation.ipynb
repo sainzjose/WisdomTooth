{
 "cells": [
  {
   "attachments": {},
   "cell_type": "markdown",
   "metadata": {},
   "source": [
    "#  Representing a Graph as ML Input"
   ]
  },
  {
   "attachments": {},
   "cell_type": "markdown",
   "metadata": {},
   "source": [
    "## Purpose\n",
    "\n",
    "How do we get info about an executable file to determine wether or not it's malicious? We can extract a control flow graph. \n",
    "\n",
    "From MalwareBazaar you have \n",
    "\n",
    "* Tag (malware type, targeted architecture, etc...)\n",
    "\n",
    "* Type (exe, elf, dll)\n",
    "\n",
    "* The malicious file itself\n",
    "\n",
    "The graph is currently being stored as a json. \n",
    "\n",
    "## Models Currently being Used\n",
    "\n",
    "From [here](https://scholarworks.sjsu.edu/cgi/viewcontent.cgi?article=1725&context=etd_projects)\n",
    "They suggest `Weisfeiler-Lehman subtree graph kernel` and the `Graph Kernels` python package. \n",
    "\n",
    "They use python's `scikit-learn` to compare several different methods and found that **Random Forest** worked the best among the 8 sample datasets. I think it could be a good choice for us, but this model also took the longest amount of time to train. This could be an important consideration for us depending on how we decide to train (Get a cluster?).\n",
    "\n",
    "They also embed the graph as a vector to use as input\n",
    "\n",
    "DeepWalk and Node2Vec [24] that perform random walks on the graph to capture information about their neighborhood. The embeddings should capture meaningful information from the graphs such as the interaction between subgraphs and neighborhood information for a node.\n",
    "\n",
    "The others of the article also explore using spectral decomposition of graph Laplacian.\n",
    "\n",
    "\n",
    "\n",
    "## Implementation"
   ]
  },
  {
   "attachments": {},
   "cell_type": "markdown",
   "metadata": {},
   "source": [
    "\n"
   ]
  },
  {
   "cell_type": "markdown",
   "metadata": {},
   "source": []
  }
 ],
 "metadata": {
  "language_info": {
   "name": "python"
  },
  "orig_nbformat": 4
 },
 "nbformat": 4,
 "nbformat_minor": 2
}
